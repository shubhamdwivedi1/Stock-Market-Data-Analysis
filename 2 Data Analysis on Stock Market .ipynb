{
 "cells": [
  {
   "cell_type": "markdown",
   "metadata": {},
   "source": [
    "# Stock Analysis - Hands on\n",
    "\n",
    "### Step 1: Stocks Data Retrieving from Yahoo Finance(Advanced Micro Devices,                       Inc. (AMD)) From 31-Dec-2013 to 03-Sept-2019(Historical Data)\n",
    "### Step 2: ReSampling Data (Monthly,Quaterly,Yearly)\n",
    "### Step 3: Moving Windows (How stock performed)\n",
    "### Step 4: Volatility (Which Stock is more)\n"
   ]
  },
  {
   "cell_type": "code",
   "execution_count": 10,
   "metadata": {},
   "outputs": [],
   "source": [
    "import pandas as pd\n",
    "amd = pd.read_csv(\"AMD.csv\")"
   ]
  },
  {
   "cell_type": "code",
   "execution_count": 11,
   "metadata": {},
   "outputs": [
    {
     "data": {
      "text/html": [
       "<div>\n",
       "<style scoped>\n",
       "    .dataframe tbody tr th:only-of-type {\n",
       "        vertical-align: middle;\n",
       "    }\n",
       "\n",
       "    .dataframe tbody tr th {\n",
       "        vertical-align: top;\n",
       "    }\n",
       "\n",
       "    .dataframe thead th {\n",
       "        text-align: right;\n",
       "    }\n",
       "</style>\n",
       "<table border=\"1\" class=\"dataframe\">\n",
       "  <thead>\n",
       "    <tr style=\"text-align: right;\">\n",
       "      <th></th>\n",
       "      <th>Date</th>\n",
       "      <th>Open</th>\n",
       "      <th>High</th>\n",
       "      <th>Low</th>\n",
       "      <th>Close</th>\n",
       "      <th>Adj Close</th>\n",
       "      <th>Volume</th>\n",
       "    </tr>\n",
       "  </thead>\n",
       "  <tbody>\n",
       "    <tr>\n",
       "      <th>0</th>\n",
       "      <td>2013-12-31</td>\n",
       "      <td>3.87</td>\n",
       "      <td>3.88</td>\n",
       "      <td>3.83</td>\n",
       "      <td>3.87</td>\n",
       "      <td>3.87</td>\n",
       "      <td>12347800</td>\n",
       "    </tr>\n",
       "    <tr>\n",
       "      <th>1</th>\n",
       "      <td>2014-01-02</td>\n",
       "      <td>3.85</td>\n",
       "      <td>3.98</td>\n",
       "      <td>3.84</td>\n",
       "      <td>3.95</td>\n",
       "      <td>3.95</td>\n",
       "      <td>20548400</td>\n",
       "    </tr>\n",
       "    <tr>\n",
       "      <th>2</th>\n",
       "      <td>2014-01-03</td>\n",
       "      <td>3.98</td>\n",
       "      <td>4.00</td>\n",
       "      <td>3.88</td>\n",
       "      <td>4.00</td>\n",
       "      <td>4.00</td>\n",
       "      <td>22887200</td>\n",
       "    </tr>\n",
       "    <tr>\n",
       "      <th>3</th>\n",
       "      <td>2014-01-06</td>\n",
       "      <td>4.01</td>\n",
       "      <td>4.18</td>\n",
       "      <td>3.99</td>\n",
       "      <td>4.13</td>\n",
       "      <td>4.13</td>\n",
       "      <td>42398300</td>\n",
       "    </tr>\n",
       "    <tr>\n",
       "      <th>4</th>\n",
       "      <td>2014-01-07</td>\n",
       "      <td>4.19</td>\n",
       "      <td>4.25</td>\n",
       "      <td>4.11</td>\n",
       "      <td>4.18</td>\n",
       "      <td>4.18</td>\n",
       "      <td>42932100</td>\n",
       "    </tr>\n",
       "  </tbody>\n",
       "</table>\n",
       "</div>"
      ],
      "text/plain": [
       "         Date  Open  High   Low  Close  Adj Close    Volume\n",
       "0  2013-12-31  3.87  3.88  3.83   3.87       3.87  12347800\n",
       "1  2014-01-02  3.85  3.98  3.84   3.95       3.95  20548400\n",
       "2  2014-01-03  3.98  4.00  3.88   4.00       4.00  22887200\n",
       "3  2014-01-06  4.01  4.18  3.99   4.13       4.13  42398300\n",
       "4  2014-01-07  4.19  4.25  4.11   4.18       4.18  42932100"
      ]
     },
     "execution_count": 11,
     "metadata": {},
     "output_type": "execute_result"
    }
   ],
   "source": [
    "amd.head()"
   ]
  },
  {
   "cell_type": "code",
   "execution_count": 12,
   "metadata": {},
   "outputs": [
    {
     "data": {
      "text/html": [
       "<div>\n",
       "<style scoped>\n",
       "    .dataframe tbody tr th:only-of-type {\n",
       "        vertical-align: middle;\n",
       "    }\n",
       "\n",
       "    .dataframe tbody tr th {\n",
       "        vertical-align: top;\n",
       "    }\n",
       "\n",
       "    .dataframe thead th {\n",
       "        text-align: right;\n",
       "    }\n",
       "</style>\n",
       "<table border=\"1\" class=\"dataframe\">\n",
       "  <thead>\n",
       "    <tr style=\"text-align: right;\">\n",
       "      <th></th>\n",
       "      <th>Date</th>\n",
       "      <th>Open</th>\n",
       "      <th>High</th>\n",
       "      <th>Low</th>\n",
       "      <th>Close</th>\n",
       "      <th>Adj Close</th>\n",
       "      <th>Volume</th>\n",
       "    </tr>\n",
       "  </thead>\n",
       "  <tbody>\n",
       "    <tr>\n",
       "      <th>1433</th>\n",
       "      <td>2019-09-11</td>\n",
       "      <td>30.379999</td>\n",
       "      <td>30.43</td>\n",
       "      <td>29.510000</td>\n",
       "      <td>29.760000</td>\n",
       "      <td>29.760000</td>\n",
       "      <td>50631700</td>\n",
       "    </tr>\n",
       "    <tr>\n",
       "      <th>1434</th>\n",
       "      <td>2019-09-12</td>\n",
       "      <td>30.080000</td>\n",
       "      <td>30.84</td>\n",
       "      <td>29.950001</td>\n",
       "      <td>30.209999</td>\n",
       "      <td>30.209999</td>\n",
       "      <td>53618300</td>\n",
       "    </tr>\n",
       "    <tr>\n",
       "      <th>1435</th>\n",
       "      <td>2019-09-13</td>\n",
       "      <td>30.270000</td>\n",
       "      <td>30.85</td>\n",
       "      <td>29.950001</td>\n",
       "      <td>30.690001</td>\n",
       "      <td>30.690001</td>\n",
       "      <td>47758800</td>\n",
       "    </tr>\n",
       "  </tbody>\n",
       "</table>\n",
       "</div>"
      ],
      "text/plain": [
       "            Date       Open   High        Low      Close  Adj Close    Volume\n",
       "1433  2019-09-11  30.379999  30.43  29.510000  29.760000  29.760000  50631700\n",
       "1434  2019-09-12  30.080000  30.84  29.950001  30.209999  30.209999  53618300\n",
       "1435  2019-09-13  30.270000  30.85  29.950001  30.690001  30.690001  47758800"
      ]
     },
     "execution_count": 12,
     "metadata": {},
     "output_type": "execute_result"
    }
   ],
   "source": [
    "amd.tail(3)"
   ]
  },
  {
   "cell_type": "markdown",
   "metadata": {},
   "source": [
    "### Using Date Column as Index"
   ]
  },
  {
   "cell_type": "code",
   "execution_count": 13,
   "metadata": {},
   "outputs": [
    {
     "data": {
      "text/html": [
       "<div>\n",
       "<style scoped>\n",
       "    .dataframe tbody tr th:only-of-type {\n",
       "        vertical-align: middle;\n",
       "    }\n",
       "\n",
       "    .dataframe tbody tr th {\n",
       "        vertical-align: top;\n",
       "    }\n",
       "\n",
       "    .dataframe thead th {\n",
       "        text-align: right;\n",
       "    }\n",
       "</style>\n",
       "<table border=\"1\" class=\"dataframe\">\n",
       "  <thead>\n",
       "    <tr style=\"text-align: right;\">\n",
       "      <th></th>\n",
       "      <th>Open</th>\n",
       "      <th>High</th>\n",
       "      <th>Low</th>\n",
       "      <th>Close</th>\n",
       "      <th>Adj Close</th>\n",
       "      <th>Volume</th>\n",
       "    </tr>\n",
       "    <tr>\n",
       "      <th>Date</th>\n",
       "      <th></th>\n",
       "      <th></th>\n",
       "      <th></th>\n",
       "      <th></th>\n",
       "      <th></th>\n",
       "      <th></th>\n",
       "    </tr>\n",
       "  </thead>\n",
       "  <tbody>\n",
       "    <tr>\n",
       "      <th>2013-12-31</th>\n",
       "      <td>3.87</td>\n",
       "      <td>3.88</td>\n",
       "      <td>3.83</td>\n",
       "      <td>3.87</td>\n",
       "      <td>3.87</td>\n",
       "      <td>12347800</td>\n",
       "    </tr>\n",
       "    <tr>\n",
       "      <th>2014-01-02</th>\n",
       "      <td>3.85</td>\n",
       "      <td>3.98</td>\n",
       "      <td>3.84</td>\n",
       "      <td>3.95</td>\n",
       "      <td>3.95</td>\n",
       "      <td>20548400</td>\n",
       "    </tr>\n",
       "    <tr>\n",
       "      <th>2014-01-03</th>\n",
       "      <td>3.98</td>\n",
       "      <td>4.00</td>\n",
       "      <td>3.88</td>\n",
       "      <td>4.00</td>\n",
       "      <td>4.00</td>\n",
       "      <td>22887200</td>\n",
       "    </tr>\n",
       "    <tr>\n",
       "      <th>2014-01-06</th>\n",
       "      <td>4.01</td>\n",
       "      <td>4.18</td>\n",
       "      <td>3.99</td>\n",
       "      <td>4.13</td>\n",
       "      <td>4.13</td>\n",
       "      <td>42398300</td>\n",
       "    </tr>\n",
       "    <tr>\n",
       "      <th>2014-01-07</th>\n",
       "      <td>4.19</td>\n",
       "      <td>4.25</td>\n",
       "      <td>4.11</td>\n",
       "      <td>4.18</td>\n",
       "      <td>4.18</td>\n",
       "      <td>42932100</td>\n",
       "    </tr>\n",
       "  </tbody>\n",
       "</table>\n",
       "</div>"
      ],
      "text/plain": [
       "            Open  High   Low  Close  Adj Close    Volume\n",
       "Date                                                    \n",
       "2013-12-31  3.87  3.88  3.83   3.87       3.87  12347800\n",
       "2014-01-02  3.85  3.98  3.84   3.95       3.95  20548400\n",
       "2014-01-03  3.98  4.00  3.88   4.00       4.00  22887200\n",
       "2014-01-06  4.01  4.18  3.99   4.13       4.13  42398300\n",
       "2014-01-07  4.19  4.25  4.11   4.18       4.18  42932100"
      ]
     },
     "execution_count": 13,
     "metadata": {},
     "output_type": "execute_result"
    }
   ],
   "source": [
    "amd = pd.read_csv(\"AMD.csv\",header=0,index_col=\"Date\",parse_dates=True)\n",
    "amd.head()"
   ]
  },
  {
   "cell_type": "markdown",
   "metadata": {},
   "source": [
    "## Importing Dataset from Yahoo by Using Pandas DataReader "
   ]
  },
  {
   "cell_type": "code",
   "execution_count": 14,
   "metadata": {},
   "outputs": [],
   "source": [
    "import pandas_datareader as pdr"
   ]
  },
  {
   "cell_type": "code",
   "execution_count": 15,
   "metadata": {},
   "outputs": [],
   "source": [
    "import datetime"
   ]
  },
  {
   "cell_type": "code",
   "execution_count": 17,
   "metadata": {},
   "outputs": [],
   "source": [
    "# Nvidia Corporation Data From Yahoo Finance\n",
    "nvda = pdr.get_data_yahoo('NVDA',\n",
    "                         start=datetime.datetime(2004,1,1),\n",
    "                         end=datetime.datetime(2019,9,15))"
   ]
  },
  {
   "cell_type": "code",
   "execution_count": 19,
   "metadata": {},
   "outputs": [],
   "source": [
    "# QualComm Data from Yahoo Finance\n",
    "qcom = pdr.get_data_yahoo('QCOM',\n",
    "                         start=datetime.datetime(2004,1,1),\n",
    "                         end=datetime.datetime(2019,9,15))"
   ]
  },
  {
   "cell_type": "code",
   "execution_count": 20,
   "metadata": {},
   "outputs": [],
   "source": [
    "# Nvidia Corporation Data From Yahoo Finance\n",
    "amd1 = pdr.get_data_yahoo('AMD',\n",
    "                         start=datetime.datetime(2004,1,1),\n",
    "                         end=datetime.datetime(2019,9,15))"
   ]
  },
  {
   "cell_type": "code",
   "execution_count": 21,
   "metadata": {},
   "outputs": [],
   "source": [
    "# Intel Corporation Data From Yahoo Finance\n",
    "intc = pdr.get_data_yahoo('INTC',\n",
    "                         start=datetime.datetime(2004,1,1),\n",
    "                         end=datetime.datetime(2019,9,15))"
   ]
  },
  {
   "cell_type": "code",
   "execution_count": 22,
   "metadata": {},
   "outputs": [],
   "source": [
    "# IBM Data From Yahoo Finance\n",
    "ibm = pdr.get_data_yahoo('IBM',\n",
    "                        start=datetime.datetime(2004,1,1),\n",
    "                        end=datetime.datetime(2019,9,15))"
   ]
  },
  {
   "cell_type": "code",
   "execution_count": 23,
   "metadata": {},
   "outputs": [
    {
     "data": {
      "text/plain": [
       "(pandas.core.frame.DataFrame, pandas.core.frame.DataFrame)"
      ]
     },
     "execution_count": 23,
     "metadata": {},
     "output_type": "execute_result"
    }
   ],
   "source": [
    "type(amd),type(nvda)"
   ]
  },
  {
   "cell_type": "code",
   "execution_count": 24,
   "metadata": {},
   "outputs": [
    {
     "data": {
      "text/html": [
       "<div>\n",
       "<style scoped>\n",
       "    .dataframe tbody tr th:only-of-type {\n",
       "        vertical-align: middle;\n",
       "    }\n",
       "\n",
       "    .dataframe tbody tr th {\n",
       "        vertical-align: top;\n",
       "    }\n",
       "\n",
       "    .dataframe thead th {\n",
       "        text-align: right;\n",
       "    }\n",
       "</style>\n",
       "<table border=\"1\" class=\"dataframe\">\n",
       "  <thead>\n",
       "    <tr style=\"text-align: right;\">\n",
       "      <th></th>\n",
       "      <th>High</th>\n",
       "      <th>Low</th>\n",
       "      <th>Open</th>\n",
       "      <th>Close</th>\n",
       "      <th>Volume</th>\n",
       "      <th>Adj Close</th>\n",
       "    </tr>\n",
       "    <tr>\n",
       "      <th>Date</th>\n",
       "      <th></th>\n",
       "      <th></th>\n",
       "      <th></th>\n",
       "      <th></th>\n",
       "      <th></th>\n",
       "      <th></th>\n",
       "    </tr>\n",
       "  </thead>\n",
       "  <tbody>\n",
       "    <tr>\n",
       "      <th>2003-12-31</th>\n",
       "      <td>7.950000</td>\n",
       "      <td>7.606667</td>\n",
       "      <td>7.913333</td>\n",
       "      <td>7.733333</td>\n",
       "      <td>12431700.0</td>\n",
       "      <td>7.110125</td>\n",
       "    </tr>\n",
       "    <tr>\n",
       "      <th>2004-01-02</th>\n",
       "      <td>7.963333</td>\n",
       "      <td>7.693333</td>\n",
       "      <td>7.856667</td>\n",
       "      <td>7.693333</td>\n",
       "      <td>10910400.0</td>\n",
       "      <td>7.073349</td>\n",
       "    </tr>\n",
       "  </tbody>\n",
       "</table>\n",
       "</div>"
      ],
      "text/plain": [
       "                High       Low      Open     Close      Volume  Adj Close\n",
       "Date                                                                     \n",
       "2003-12-31  7.950000  7.606667  7.913333  7.733333  12431700.0   7.110125\n",
       "2004-01-02  7.963333  7.693333  7.856667  7.693333  10910400.0   7.073349"
      ]
     },
     "execution_count": 24,
     "metadata": {},
     "output_type": "execute_result"
    }
   ],
   "source": [
    "nvda.head(2)"
   ]
  },
  {
   "cell_type": "code",
   "execution_count": 25,
   "metadata": {},
   "outputs": [
    {
     "data": {
      "text/html": [
       "<div>\n",
       "<style scoped>\n",
       "    .dataframe tbody tr th:only-of-type {\n",
       "        vertical-align: middle;\n",
       "    }\n",
       "\n",
       "    .dataframe tbody tr th {\n",
       "        vertical-align: top;\n",
       "    }\n",
       "\n",
       "    .dataframe thead th {\n",
       "        text-align: right;\n",
       "    }\n",
       "</style>\n",
       "<table border=\"1\" class=\"dataframe\">\n",
       "  <thead>\n",
       "    <tr style=\"text-align: right;\">\n",
       "      <th></th>\n",
       "      <th>High</th>\n",
       "      <th>Low</th>\n",
       "      <th>Open</th>\n",
       "      <th>Close</th>\n",
       "      <th>Volume</th>\n",
       "      <th>Adj Close</th>\n",
       "    </tr>\n",
       "    <tr>\n",
       "      <th>Date</th>\n",
       "      <th></th>\n",
       "      <th></th>\n",
       "      <th></th>\n",
       "      <th></th>\n",
       "      <th></th>\n",
       "      <th></th>\n",
       "    </tr>\n",
       "  </thead>\n",
       "  <tbody>\n",
       "    <tr>\n",
       "      <th>2019-09-12</th>\n",
       "      <td>144.039993</td>\n",
       "      <td>141.880005</td>\n",
       "      <td>144.029999</td>\n",
       "      <td>143.619995</td>\n",
       "      <td>2505400.0</td>\n",
       "      <td>134.870392</td>\n",
       "    </tr>\n",
       "    <tr>\n",
       "      <th>2019-09-13</th>\n",
       "      <td>144.649994</td>\n",
       "      <td>143.259995</td>\n",
       "      <td>144.320007</td>\n",
       "      <td>143.669998</td>\n",
       "      <td>2206600.0</td>\n",
       "      <td>134.917328</td>\n",
       "    </tr>\n",
       "  </tbody>\n",
       "</table>\n",
       "</div>"
      ],
      "text/plain": [
       "                  High         Low        Open       Close     Volume  \\\n",
       "Date                                                                    \n",
       "2019-09-12  144.039993  141.880005  144.029999  143.619995  2505400.0   \n",
       "2019-09-13  144.649994  143.259995  144.320007  143.669998  2206600.0   \n",
       "\n",
       "             Adj Close  \n",
       "Date                    \n",
       "2019-09-12  134.870392  \n",
       "2019-09-13  134.917328  "
      ]
     },
     "execution_count": 25,
     "metadata": {},
     "output_type": "execute_result"
    }
   ],
   "source": [
    "ibm.tail(2)"
   ]
  },
  {
   "cell_type": "code",
   "execution_count": 26,
   "metadata": {},
   "outputs": [
    {
     "data": {
      "text/html": [
       "<div>\n",
       "<style scoped>\n",
       "    .dataframe tbody tr th:only-of-type {\n",
       "        vertical-align: middle;\n",
       "    }\n",
       "\n",
       "    .dataframe tbody tr th {\n",
       "        vertical-align: top;\n",
       "    }\n",
       "\n",
       "    .dataframe thead th {\n",
       "        text-align: right;\n",
       "    }\n",
       "</style>\n",
       "<table border=\"1\" class=\"dataframe\">\n",
       "  <thead>\n",
       "    <tr style=\"text-align: right;\">\n",
       "      <th></th>\n",
       "      <th>High</th>\n",
       "      <th>Low</th>\n",
       "      <th>Open</th>\n",
       "      <th>Close</th>\n",
       "      <th>Volume</th>\n",
       "      <th>Adj Close</th>\n",
       "    </tr>\n",
       "  </thead>\n",
       "  <tbody>\n",
       "    <tr>\n",
       "      <th>count</th>\n",
       "      <td>3953.000000</td>\n",
       "      <td>3953.000000</td>\n",
       "      <td>3953.000000</td>\n",
       "      <td>3953.000000</td>\n",
       "      <td>3.953000e+03</td>\n",
       "      <td>3953.000000</td>\n",
       "    </tr>\n",
       "    <tr>\n",
       "      <th>mean</th>\n",
       "      <td>138.687144</td>\n",
       "      <td>136.603256</td>\n",
       "      <td>137.592914</td>\n",
       "      <td>137.667974</td>\n",
       "      <td>5.652203e+06</td>\n",
       "      <td>103.295775</td>\n",
       "    </tr>\n",
       "    <tr>\n",
       "      <th>std</th>\n",
       "      <td>38.483964</td>\n",
       "      <td>38.209233</td>\n",
       "      <td>38.352910</td>\n",
       "      <td>38.349583</td>\n",
       "      <td>3.084366e+06</td>\n",
       "      <td>33.805280</td>\n",
       "    </tr>\n",
       "    <tr>\n",
       "      <th>min</th>\n",
       "      <td>73.690002</td>\n",
       "      <td>69.500000</td>\n",
       "      <td>72.529999</td>\n",
       "      <td>71.739998</td>\n",
       "      <td>1.027500e+06</td>\n",
       "      <td>46.632313</td>\n",
       "    </tr>\n",
       "    <tr>\n",
       "      <th>25%</th>\n",
       "      <td>103.000000</td>\n",
       "      <td>100.190002</td>\n",
       "      <td>101.279999</td>\n",
       "      <td>101.629997</td>\n",
       "      <td>3.657600e+06</td>\n",
       "      <td>68.619553</td>\n",
       "    </tr>\n",
       "    <tr>\n",
       "      <th>50%</th>\n",
       "      <td>141.000000</td>\n",
       "      <td>139.080002</td>\n",
       "      <td>139.929993</td>\n",
       "      <td>140.039993</td>\n",
       "      <td>4.853000e+06</td>\n",
       "      <td>114.923225</td>\n",
       "    </tr>\n",
       "    <tr>\n",
       "      <th>75%</th>\n",
       "      <td>167.449997</td>\n",
       "      <td>165.100006</td>\n",
       "      <td>166.250000</td>\n",
       "      <td>166.250000</td>\n",
       "      <td>6.679400e+06</td>\n",
       "      <td>132.654068</td>\n",
       "    </tr>\n",
       "    <tr>\n",
       "      <th>max</th>\n",
       "      <td>215.899994</td>\n",
       "      <td>214.300003</td>\n",
       "      <td>215.380005</td>\n",
       "      <td>215.800003</td>\n",
       "      <td>3.077070e+07</td>\n",
       "      <td>158.909164</td>\n",
       "    </tr>\n",
       "  </tbody>\n",
       "</table>\n",
       "</div>"
      ],
      "text/plain": [
       "              High          Low         Open        Close        Volume  \\\n",
       "count  3953.000000  3953.000000  3953.000000  3953.000000  3.953000e+03   \n",
       "mean    138.687144   136.603256   137.592914   137.667974  5.652203e+06   \n",
       "std      38.483964    38.209233    38.352910    38.349583  3.084366e+06   \n",
       "min      73.690002    69.500000    72.529999    71.739998  1.027500e+06   \n",
       "25%     103.000000   100.190002   101.279999   101.629997  3.657600e+06   \n",
       "50%     141.000000   139.080002   139.929993   140.039993  4.853000e+06   \n",
       "75%     167.449997   165.100006   166.250000   166.250000  6.679400e+06   \n",
       "max     215.899994   214.300003   215.380005   215.800003  3.077070e+07   \n",
       "\n",
       "         Adj Close  \n",
       "count  3953.000000  \n",
       "mean    103.295775  \n",
       "std      33.805280  \n",
       "min      46.632313  \n",
       "25%      68.619553  \n",
       "50%     114.923225  \n",
       "75%     132.654068  \n",
       "max     158.909164  "
      ]
     },
     "execution_count": 26,
     "metadata": {},
     "output_type": "execute_result"
    }
   ],
   "source": [
    "ibm.describe()"
   ]
  },
  {
   "cell_type": "code",
   "execution_count": 27,
   "metadata": {},
   "outputs": [
    {
     "data": {
      "text/plain": [
       "Index(['High', 'Low', 'Open', 'Close', 'Volume', 'Adj Close'], dtype='object')"
      ]
     },
     "execution_count": 27,
     "metadata": {},
     "output_type": "execute_result"
    }
   ],
   "source": [
    "nvda.columns"
   ]
  },
  {
   "cell_type": "code",
   "execution_count": 28,
   "metadata": {},
   "outputs": [
    {
     "data": {
      "text/plain": [
       "(DatetimeIndex(['2003-12-31', '2004-01-02', '2004-01-05', '2004-01-06',\n",
       "                '2004-01-07', '2004-01-08', '2004-01-09', '2004-01-12',\n",
       "                '2004-01-13', '2004-01-14',\n",
       "                ...\n",
       "                '2019-08-30', '2019-09-03', '2019-09-04', '2019-09-05',\n",
       "                '2019-09-06', '2019-09-09', '2019-09-10', '2019-09-11',\n",
       "                '2019-09-12', '2019-09-13'],\n",
       "               dtype='datetime64[ns]', name='Date', length=3953, freq=None),\n",
       " DatetimeIndex(['2013-12-31', '2014-01-02', '2014-01-03', '2014-01-06',\n",
       "                '2014-01-07', '2014-01-08', '2014-01-09', '2014-01-10',\n",
       "                '2014-01-13', '2014-01-14',\n",
       "                ...\n",
       "                '2019-08-30', '2019-09-03', '2019-09-04', '2019-09-05',\n",
       "                '2019-09-06', '2019-09-09', '2019-09-10', '2019-09-11',\n",
       "                '2019-09-12', '2019-09-13'],\n",
       "               dtype='datetime64[ns]', name='Date', length=1436, freq=None),\n",
       " DatetimeIndex(['2003-12-31', '2004-01-02', '2004-01-05', '2004-01-06',\n",
       "                '2004-01-07', '2004-01-08', '2004-01-09', '2004-01-12',\n",
       "                '2004-01-13', '2004-01-14',\n",
       "                ...\n",
       "                '2019-08-30', '2019-09-03', '2019-09-04', '2019-09-05',\n",
       "                '2019-09-06', '2019-09-09', '2019-09-10', '2019-09-11',\n",
       "                '2019-09-12', '2019-09-13'],\n",
       "               dtype='datetime64[ns]', name='Date', length=3953, freq=None))"
      ]
     },
     "execution_count": 28,
     "metadata": {},
     "output_type": "execute_result"
    }
   ],
   "source": [
    "nvda.index, amd.index, ibm.index"
   ]
  },
  {
   "cell_type": "code",
   "execution_count": 29,
   "metadata": {},
   "outputs": [
    {
     "data": {
      "text/plain": [
       "((3953, 6), (3953, 6), (1436, 6))"
      ]
     },
     "execution_count": 29,
     "metadata": {},
     "output_type": "execute_result"
    }
   ],
   "source": [
    "nvda.shape, ibm.shape, amd.shape"
   ]
  },
  {
   "cell_type": "markdown",
   "metadata": {},
   "source": [
    "## Time Series Data Visualization"
   ]
  },
  {
   "cell_type": "code",
   "execution_count": 30,
   "metadata": {},
   "outputs": [],
   "source": [
    "import matplotlib.pyplot as plt\n",
    "%matplotlib inline"
   ]
  },
  {
   "cell_type": "code",
   "execution_count": 31,
   "metadata": {},
   "outputs": [],
   "source": [
    "import matplotlib.dates as mdates"
   ]
  },
  {
   "cell_type": "code",
   "execution_count": 32,
   "metadata": {},
   "outputs": [
    {
     "data": {
      "image/png": "[encoded data removed]",
      "text/plain": [
       "<Figure size 432x288 with 1 Axes>"
      ]
     },
     "metadata": {
      "needs_background": "light"
     },
     "output_type": "display_data"
    }
   ],
   "source": [
    "plt.plot(ibm.index, ibm['Adj Close'])\n",
    "plt.gca().xaxis.set_major_formatter(mdates.DateFormatter('%Y'))\n",
    "plt.gca().xaxis.set_major_locator(mdates.YearLocator())\n",
    "plt.grid(True)\n",
    "plt.xticks(rotation=90)\n",
    "plt.show()"
   ]
  },
  {
   "cell_type": "code",
   "execution_count": 33,
   "metadata": {},
   "outputs": [
    {
     "data": {
      "image/png": "[encoded data removed]",
      "text/plain": [
       "<Figure size 720x720 with 4 Axes>"
      ]
     },
     "metadata": {
      "needs_background": "light"
     },
     "output_type": "display_data"
    }
   ],
   "source": [
    "# SubPlots\n",
    "f,ax = plt.subplots(2,2,figsize=(10,10),sharex=True)\n",
    "f.gca().xaxis.set_major_formatter(mdates.DateFormatter('%Y'))\n",
    "f.gca().xaxis.set_major_locator(mdates.YearLocator())\n",
    "\n",
    "ax[0,0].plot(nvda.index, nvda['Adj Close'],color='r')\n",
    "ax[0,0].grid(True)\n",
    "ax[0,0].tick_params(labelrotation=90)\n",
    "ax[0,0].set_title('NVIDIA');\n",
    "\n",
    "ax[0,1].plot(intc.index, intc['Adj Close'],color='g')\n",
    "ax[0,1].grid(True)\n",
    "ax[0,1].tick_params(labelrotation=90)\n",
    "ax[0,1].set_title('INTEL');\n",
    "\n",
    "ax[1,0].plot(qcom.index, qcom['Adj Close'],color='b')\n",
    "ax[1,0].grid(True)\n",
    "ax[1,0].tick_params(labelrotation=90)\n",
    "ax[1,0].set_title('QUALCOMM');\n",
    "\n",
    "ax[1,1].plot(amd1.index, amd1['Adj Close'],color='y')\n",
    "ax[1,1].grid(True)\n",
    "ax[1,1].tick_params(labelrotation=90)\n",
    "ax[1,1].set_title('AMD');\n",
    "\n"
   ]
  },
  {
   "cell_type": "code",
   "execution_count": null,
   "metadata": {},
   "outputs": [],
   "source": []
  },
  {
   "cell_type": "code",
   "execution_count": null,
   "metadata": {},
   "outputs": [],
   "source": []
  }
 ],
 "metadata": {
  "kernelspec": {
   "display_name": "Python 3",
   "language": "python",
   "name": "python3"
  },
  "language_info": {
   "codemirror_mode": {
    "name": "ipython",
    "version": 3
   },
   "file_extension": ".py",
   "mimetype": "text/x-python",
   "name": "python",
   "nbconvert_exporter": "python",
   "pygments_lexer": "ipython3",
   "version": "3.6.9"
  }
 },
 "nbformat": 4,
 "nbformat_minor": 4
}
